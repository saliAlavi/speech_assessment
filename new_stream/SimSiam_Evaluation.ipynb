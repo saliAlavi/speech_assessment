{
 "cells": [
  {
   "cell_type": "markdown",
   "metadata": {
    "colab_type": "text",
    "id": "view-in-github"
   },
   "source": [
    "<a href=\"https://colab.research.google.com/github/sayakpaul/SimSiam-TF/blob/main/SimSiam_Evaluation.ipynb\" target=\"_parent\"><img src=\"https://colab.research.google.com/assets/colab-badge.svg\" alt=\"Open In Colab\"/></a>"
   ]
  },
  {
   "cell_type": "markdown",
   "metadata": {
    "id": "spvkjI26p5hP"
   },
   "source": [
    "This notebook evaluates the frozen features of a ResNet50 pre-trained (50 epochs of pre-training) using the [SimSiam method](https://arxiv.org/abs/2011.10566). You can refer to the [pre-training notebook here](https://github.com/sayakpaul/SimSiam-TF/blob/main/SimSiam_Pre_training.ipynb). Following evaluation methods have been used - \n",
    "\n",
    "* Linear evaluation of the frozen features\n",
    "\n",
    "*Please note that to keep this minimal I did not follow the original hyperparameter configurations rigorously.*  "
   ]
  },
  {
   "cell_type": "markdown",
   "metadata": {
    "id": "bHxqoL8criDm"
   },
   "source": [
    "## Initial setup"
   ]
  },
  {
   "cell_type": "code",
   "execution_count": 2,
   "metadata": {
    "colab": {
     "base_uri": "https://localhost:8080/"
    },
    "id": "jjv_xR31qway",
    "outputId": "0540994e-cb2e-4e81-9b55-3c44c75bd382"
   },
   "outputs": [
    {
     "name": "stdout",
     "output_type": "stream",
     "text": [
      "Sun Nov 29 06:22:58 2020       \n",
      "+-----------------------------------------------------------------------------+\n",
      "| NVIDIA-SMI 455.38       Driver Version: 418.67       CUDA Version: 10.1     |\n",
      "|-------------------------------+----------------------+----------------------+\n",
      "| GPU  Name        Persistence-M| Bus-Id        Disp.A | Volatile Uncorr. ECC |\n",
      "| Fan  Temp  Perf  Pwr:Usage/Cap|         Memory-Usage | GPU-Util  Compute M. |\n",
      "|                               |                      |               MIG M. |\n",
      "|===============================+======================+======================|\n",
      "|   0  Tesla T4            Off  | 00000000:00:04.0 Off |                    0 |\n",
      "| N/A   64C    P8    11W /  70W |      0MiB / 15079MiB |      0%      Default |\n",
      "|                               |                      |                 ERR! |\n",
      "+-------------------------------+----------------------+----------------------+\n",
      "                                                                               \n",
      "+-----------------------------------------------------------------------------+\n",
      "| Processes:                                                                  |\n",
      "|  GPU   GI   CI        PID   Type   Process name                  GPU Memory |\n",
      "|        ID   ID                                                   Usage      |\n",
      "|=============================================================================|\n",
      "|  No running processes found                                                 |\n",
      "+-----------------------------------------------------------------------------+\n"
     ]
    }
   ],
   "source": [
    "!nvidia-smi"
   ]
  },
  {
   "cell_type": "code",
   "execution_count": 1,
   "metadata": {
    "id": "gFTq1rLLpxm9"
   },
   "outputs": [
    {
     "name": "stderr",
     "output_type": "stream",
     "text": [
      "2023-11-30 13:45:58.998560: E tensorflow/compiler/xla/stream_executor/cuda/cuda_dnn.cc:9342] Unable to register cuDNN factory: Attempting to register factory for plugin cuDNN when one has already been registered\n",
      "2023-11-30 13:45:58.998649: E tensorflow/compiler/xla/stream_executor/cuda/cuda_fft.cc:609] Unable to register cuFFT factory: Attempting to register factory for plugin cuFFT when one has already been registered\n",
      "2023-11-30 13:45:58.999219: E tensorflow/compiler/xla/stream_executor/cuda/cuda_blas.cc:1518] Unable to register cuBLAS factory: Attempting to register factory for plugin cuBLAS when one has already been registered\n",
      "2023-11-30 13:45:59.646327: I tensorflow/core/platform/cpu_feature_guard.cc:182] This TensorFlow binary is optimized to use available CPU instructions in performance-critical operations.\n",
      "To enable the following instructions: AVX2 FMA, in other operations, rebuild TensorFlow with the appropriate compiler flags.\n"
     ]
    },
    {
     "name": "stdout",
     "output_type": "stream",
     "text": [
      "2.14.0\n"
     ]
    }
   ],
   "source": [
    "import tensorflow as tf\n",
    "print(tf.__version__)"
   ]
  },
  {
   "cell_type": "code",
   "execution_count": 2,
   "metadata": {
    "id": "eabbJmtEqxZx"
   },
   "outputs": [
    {
     "name": "stderr",
     "output_type": "stream",
     "text": [
      "/users/PAS2301/kibria5/.conda/envs/local/lib/python3.9/site-packages/tqdm/auto.py:21: TqdmWarning: IProgress not found. Please update jupyter and ipywidgets. See https://ipywidgets.readthedocs.io/en/stable/user_install.html\n",
      "  from .autonotebook import tqdm as notebook_tqdm\n"
     ]
    }
   ],
   "source": [
    "import tensorflow_datasets as tfds\n",
    "tfds.disable_progress_bar()\n",
    "\n",
    "import matplotlib.pyplot as plt\n",
    "import numpy as np\n",
    "import random\n",
    "import time\n",
    "import os\n",
    "\n",
    "tf.random.set_seed(666)\n",
    "np.random.seed(666)"
   ]
  },
  {
   "cell_type": "code",
   "execution_count": 3,
   "metadata": {
    "id": "fWxQyUYJrAoz"
   },
   "outputs": [],
   "source": [
    "# Retrieve the weights (50 epochs pre-training) of the projection head\n",
    "!wget -q https://github.com/sayakpaul/SimSiam-TF/releases/download/v1.0.0/projection.h5"
   ]
  },
  {
   "cell_type": "markdown",
   "metadata": {
    "id": "9pVwjqIDrbNR"
   },
   "source": [
    "## Dataset collection & preparation\n",
    "\n",
    "The following code is referred from [here](https://github.com/ayulockin/SwAV-TF/blob/master/linear_evaluation/Linear_Evaluation_10_Epochs.ipynb). "
   ]
  },
  {
   "cell_type": "code",
   "execution_count": 4,
   "metadata": {
    "colab": {
     "base_uri": "https://localhost:8080/"
    },
    "id": "mqcYr9UMrNtt",
    "outputId": "c286bf12-4f9b-43ef-d957-436831406f66"
   },
   "outputs": [
    {
     "name": "stderr",
     "output_type": "stream",
     "text": [
      "2023-11-30 13:47:02.093449: E tensorflow/compiler/xla/stream_executor/cuda/cuda_driver.cc:268] failed call to cuInit: CUDA_ERROR_NO_DEVICE: no CUDA-capable device is detected\n"
     ]
    }
   ],
   "source": [
    "# Gather Flowers dataset\n",
    "train_ds, validation_ds = tfds.load(\n",
    "    \"tf_flowers\",\n",
    "    split=[\"train[:85%]\", \"train[85%:]\"],\n",
    "    as_supervised=True\n",
    ")\n",
    "\n",
    "AUTO = tf.data.experimental.AUTOTUNE\n",
    "BATCH_SIZE = 64\n",
    "\n",
    "@tf.function\n",
    "def scale_resize_image(image, label):\n",
    "    image = tf.image.convert_image_dtype(image, tf.float32)\n",
    "    image = tf.image.resize(image, (224, 224)) # Resizing to highest resolution used while training swav\n",
    "    return (image, label)\n",
    "\n",
    "training_ds = (\n",
    "    train_ds\n",
    "    .map(scale_resize_image, num_parallel_calls=AUTO)\n",
    "    .batch(BATCH_SIZE)\n",
    "    .prefetch(AUTO)\n",
    ")\n",
    "\n",
    "validation_ds = (\n",
    "    validation_ds\n",
    "    .map(scale_resize_image, num_parallel_calls=AUTO)\n",
    "    .batch(BATCH_SIZE)\n",
    "    .prefetch(AUTO)\n",
    ")"
   ]
  },
  {
   "cell_type": "code",
   "execution_count": 5,
   "metadata": {},
   "outputs": [
    {
     "name": "stdout",
     "output_type": "stream",
     "text": [
      "tf.Tensor(\n",
      "[2 3 3 4 3 0 0 0 0 1 3 2 4 1 2 1 1 2 3 3 3 0 3 2 1 1 1 3 4 2 2 3 2 4 2 2 0\n",
      " 0 0 2 0 3 0 1 1 1 2 1 3 4 4 0 0 2 3 2 2 3 4 4 1 4 2 2], shape=(64,), dtype=int64)\n"
     ]
    },
    {
     "name": "stderr",
     "output_type": "stream",
     "text": [
      "2023-11-30 13:48:35.237597: W tensorflow/core/kernels/data/cache_dataset_ops.cc:854] The calling iterator did not fully read the dataset being cached. In order to avoid unexpected truncation of the dataset, the partially cached contents of the dataset  will be discarded. This can happen if you have an input pipeline similar to `dataset.cache().take(k).repeat()`. You should use `dataset.take(k).cache().repeat()` instead.\n"
     ]
    }
   ],
   "source": [
    "# This cell is created by Imran\n",
    "\n",
    "samples = training_ds.take(1)\n",
    "for image,label in samples:\n",
    "    print(label)"
   ]
  },
  {
   "cell_type": "markdown",
   "metadata": {
    "id": "kvAOIxtruK4S"
   },
   "source": [
    "## Utility functions"
   ]
  },
  {
   "cell_type": "code",
   "execution_count": 6,
   "metadata": {
    "id": "g91yjhLhrH41"
   },
   "outputs": [],
   "source": [
    "def get_encoder():\n",
    "    base_model = tf.keras.applications.ResNet50(include_top=False,\n",
    "        weights=None, input_shape=(224, 224, 3))\n",
    "    base_model.trainable = True\n",
    "\n",
    "    inputs = tf.keras.layers.Input((224, 224, 3))\n",
    "    x = base_model(inputs, training=True)\n",
    "    x = tf.keras.layers.GlobalAveragePooling2D()(x)\n",
    "    x = tf.keras.layers.Dense(2048, activation='relu', use_bias=False)(x)\n",
    "    x = tf.keras.layers.BatchNormalization()(x)\n",
    "    z = tf.keras.layers.Dense(2048)(x)\n",
    "\n",
    "    f = tf.keras.Model(inputs, z)\n",
    "\n",
    "    return f"
   ]
  },
  {
   "cell_type": "code",
   "execution_count": 7,
   "metadata": {
    "colab": {
     "base_uri": "https://localhost:8080/"
    },
    "id": "hFTZNOpIsSLm",
    "outputId": "e0199d8d-502c-4b22-b155-8dfc3d9a65c1"
   },
   "outputs": [
    {
     "name": "stdout",
     "output_type": "stream",
     "text": [
      "Model: \"functional_1\"\n",
      "_________________________________________________________________\n",
      "Layer (type)                 Output Shape              Param #   \n",
      "=================================================================\n",
      "input_2 (InputLayer)         [(None, 224, 224, 3)]     0         \n",
      "_________________________________________________________________\n",
      "resnet50 (Functional)        (None, 7, 7, 2048)        23587712  \n",
      "_________________________________________________________________\n",
      "global_average_pooling2d (Gl (None, 2048)              0         \n",
      "_________________________________________________________________\n",
      "dense (Dense)                (None, 2048)              4194304   \n",
      "_________________________________________________________________\n",
      "batch_normalization (BatchNo (None, 2048)              8192      \n",
      "_________________________________________________________________\n",
      "dense_1 (Dense)              (None, 2048)              4196352   \n",
      "=================================================================\n",
      "Total params: 31,986,560\n",
      "Trainable params: 31,929,344\n",
      "Non-trainable params: 57,216\n",
      "_________________________________________________________________\n"
     ]
    }
   ],
   "source": [
    "get_encoder().summary()"
   ]
  },
  {
   "cell_type": "code",
   "execution_count": 8,
   "metadata": {
    "colab": {
     "base_uri": "https://localhost:8080/"
    },
    "id": "KhGhjwwzr5yi",
    "outputId": "ff44cd06-e17f-411a-a43f-fcba43f8f32f"
   },
   "outputs": [
    {
     "name": "stdout",
     "output_type": "stream",
     "text": [
      "Model: \"functional_5\"\n",
      "_________________________________________________________________\n",
      "Layer (type)                 Output Shape              Param #   \n",
      "=================================================================\n",
      "input_4 (InputLayer)         [(None, 224, 224, 3)]     0         \n",
      "_________________________________________________________________\n",
      "resnet50 (Functional)        (None, 7, 7, 2048)        23587712  \n",
      "_________________________________________________________________\n",
      "global_average_pooling2d_1 ( (None, 2048)              0         \n",
      "=================================================================\n",
      "Total params: 23,587,712\n",
      "Trainable params: 23,534,592\n",
      "Non-trainable params: 53,120\n",
      "_________________________________________________________________\n"
     ]
    }
   ],
   "source": [
    "# We now load up the pre-trained weights\n",
    "projection = get_encoder()\n",
    "projection.load_weights('projection.h5')\n",
    "\n",
    "# Create a sub-model for extracting features\n",
    "rn50 = tf.keras.Model(projection.input, projection.layers[2].output)\n",
    "rn50.summary()"
   ]
  },
  {
   "cell_type": "code",
   "execution_count": 12,
   "metadata": {
    "id": "fbSkm4NPsecS"
   },
   "outputs": [],
   "source": [
    "def get_linear_classifier(feature_backbone, trainable=False):\n",
    "    inputs = tf.keras.layers.Input(shape=(224, 224, 3))\n",
    "    \n",
    "    feature_backbone.trainable = trainable\n",
    "    x = feature_backbone(inputs, training=False)\n",
    "    outputs = tf.keras.layers.Dense(5, activation=\"softmax\", )(x)\n",
    "    linear_model = tf.keras.Model(inputs, outputs)\n",
    "\n",
    "    return linear_model"
   ]
  },
  {
   "cell_type": "code",
   "execution_count": 13,
   "metadata": {
    "colab": {
     "base_uri": "https://localhost:8080/"
    },
    "id": "DP-lW-7ms7Lj",
    "outputId": "34b76e31-6f6f-48af-ff03-3e15963d51fa"
   },
   "outputs": [
    {
     "name": "stdout",
     "output_type": "stream",
     "text": [
      "Model: \"functional_7\"\n",
      "_________________________________________________________________\n",
      "Layer (type)                 Output Shape              Param #   \n",
      "=================================================================\n",
      "input_5 (InputLayer)         [(None, 224, 224, 3)]     0         \n",
      "_________________________________________________________________\n",
      "functional_5 (Functional)    (None, 2048)              23587712  \n",
      "_________________________________________________________________\n",
      "dense_4 (Dense)              (None, 5)                 10245     \n",
      "=================================================================\n",
      "Total params: 23,597,957\n",
      "Trainable params: 10,245\n",
      "Non-trainable params: 23,587,712\n",
      "_________________________________________________________________\n"
     ]
    }
   ],
   "source": [
    "get_linear_classifier(rn50).summary()"
   ]
  },
  {
   "cell_type": "code",
   "execution_count": 16,
   "metadata": {
    "id": "drzXtvV2tdjW"
   },
   "outputs": [],
   "source": [
    "def plot_progress(hist):\n",
    "    plt.plot(hist.history[\"loss\"], label=\"train_loss\")\n",
    "    plt.plot(hist.history[\"val_loss\"], label=\"validation_loss\")\n",
    "    plt.plot(hist.history[\"accuracy\"], label=\"training_accuracy\")\n",
    "    plt.plot(hist.history[\"val_accuracy\"], label=\"validation_accuracy\")\n",
    "    plt.title(\"Training Progress\")\n",
    "    plt.ylabel(\"accuracy/loss\")\n",
    "    plt.xlabel(\"epoch\")\n",
    "    plt.legend(loc=\"upper left\")\n",
    "    plt.grid()\n",
    "    plt.show()"
   ]
  },
  {
   "cell_type": "markdown",
   "metadata": {
    "id": "TNAn38zSuSUV"
   },
   "source": [
    "## Linear evaluation"
   ]
  },
  {
   "cell_type": "code",
   "execution_count": 14,
   "metadata": {
    "id": "lBw85iBGs-Cm"
   },
   "outputs": [],
   "source": [
    "# Early Stopping to prevent overfitting\n",
    "early_stopper = tf.keras.callbacks.EarlyStopping(monitor=\"val_loss\", \n",
    "                                                 patience=5, verbose=2, \n",
    "                                                 restore_best_weights=True)"
   ]
  },
  {
   "cell_type": "code",
   "execution_count": 18,
   "metadata": {
    "colab": {
     "base_uri": "https://localhost:8080/",
     "height": 1000
    },
    "id": "BxH5ImyItN59",
    "outputId": "87b90427-fe76-472c-ac3a-f6778f7758ec"
   },
   "outputs": [
    {
     "name": "stdout",
     "output_type": "stream",
     "text": [
      "Epoch 1/100\n",
      "49/49 [==============================] - 12s 252ms/step - loss: 1.6880 - accuracy: 0.2946 - val_loss: 1.5858 - val_accuracy: 0.3000\n",
      "Epoch 2/100\n",
      "49/49 [==============================] - 11s 216ms/step - loss: 1.5396 - accuracy: 0.3282 - val_loss: 1.5418 - val_accuracy: 0.3127\n",
      "Epoch 3/100\n",
      "49/49 [==============================] - 11s 222ms/step - loss: 1.5115 - accuracy: 0.3487 - val_loss: 1.5154 - val_accuracy: 0.3345\n",
      "Epoch 4/100\n",
      "49/49 [==============================] - 11s 225ms/step - loss: 1.4834 - accuracy: 0.3651 - val_loss: 1.4977 - val_accuracy: 0.3509\n",
      "Epoch 5/100\n",
      "49/49 [==============================] - 11s 229ms/step - loss: 1.4588 - accuracy: 0.3811 - val_loss: 1.4845 - val_accuracy: 0.3527\n",
      "Epoch 6/100\n",
      "49/49 [==============================] - 12s 236ms/step - loss: 1.4370 - accuracy: 0.3923 - val_loss: 1.4721 - val_accuracy: 0.3636\n",
      "Epoch 7/100\n",
      "49/49 [==============================] - 12s 240ms/step - loss: 1.4176 - accuracy: 0.3997 - val_loss: 1.4608 - val_accuracy: 0.3818\n",
      "Epoch 8/100\n",
      "49/49 [==============================] - 12s 237ms/step - loss: 1.3999 - accuracy: 0.4119 - val_loss: 1.4506 - val_accuracy: 0.3855\n",
      "Epoch 9/100\n",
      "49/49 [==============================] - 11s 231ms/step - loss: 1.3835 - accuracy: 0.4237 - val_loss: 1.4416 - val_accuracy: 0.3964\n",
      "Epoch 10/100\n",
      "49/49 [==============================] - 11s 228ms/step - loss: 1.3681 - accuracy: 0.4311 - val_loss: 1.4337 - val_accuracy: 0.3964\n",
      "Epoch 11/100\n",
      "49/49 [==============================] - 11s 229ms/step - loss: 1.3535 - accuracy: 0.4372 - val_loss: 1.4268 - val_accuracy: 0.4127\n",
      "Epoch 12/100\n",
      "49/49 [==============================] - 11s 233ms/step - loss: 1.3396 - accuracy: 0.4449 - val_loss: 1.4207 - val_accuracy: 0.4182\n",
      "Epoch 13/100\n",
      "49/49 [==============================] - 12s 236ms/step - loss: 1.3265 - accuracy: 0.4532 - val_loss: 1.4153 - val_accuracy: 0.4182\n",
      "Epoch 14/100\n",
      "49/49 [==============================] - 12s 236ms/step - loss: 1.3140 - accuracy: 0.4612 - val_loss: 1.4105 - val_accuracy: 0.4182\n",
      "Epoch 15/100\n",
      "49/49 [==============================] - 12s 235ms/step - loss: 1.3021 - accuracy: 0.4663 - val_loss: 1.4062 - val_accuracy: 0.4145\n",
      "Epoch 16/100\n",
      "49/49 [==============================] - 11s 234ms/step - loss: 1.2908 - accuracy: 0.4708 - val_loss: 1.4022 - val_accuracy: 0.4200\n",
      "Epoch 17/100\n",
      "49/49 [==============================] - 11s 234ms/step - loss: 1.2800 - accuracy: 0.4760 - val_loss: 1.3986 - val_accuracy: 0.4164\n",
      "Epoch 18/100\n",
      "49/49 [==============================] - 11s 233ms/step - loss: 1.2697 - accuracy: 0.4821 - val_loss: 1.3952 - val_accuracy: 0.4164\n",
      "Epoch 19/100\n",
      "49/49 [==============================] - 11s 233ms/step - loss: 1.2598 - accuracy: 0.4885 - val_loss: 1.3921 - val_accuracy: 0.4200\n",
      "Epoch 20/100\n",
      "49/49 [==============================] - 11s 233ms/step - loss: 1.2503 - accuracy: 0.4933 - val_loss: 1.3892 - val_accuracy: 0.4182\n",
      "Epoch 21/100\n",
      "49/49 [==============================] - 12s 235ms/step - loss: 1.2412 - accuracy: 0.4987 - val_loss: 1.3865 - val_accuracy: 0.4182\n",
      "Epoch 22/100\n",
      "49/49 [==============================] - 11s 235ms/step - loss: 1.2324 - accuracy: 0.5032 - val_loss: 1.3839 - val_accuracy: 0.4218\n",
      "Epoch 23/100\n",
      "49/49 [==============================] - 12s 235ms/step - loss: 1.2240 - accuracy: 0.5077 - val_loss: 1.3815 - val_accuracy: 0.4182\n",
      "Epoch 24/100\n",
      "49/49 [==============================] - 11s 233ms/step - loss: 1.2158 - accuracy: 0.5160 - val_loss: 1.3792 - val_accuracy: 0.4218\n",
      "Epoch 25/100\n",
      "49/49 [==============================] - 11s 233ms/step - loss: 1.2078 - accuracy: 0.5196 - val_loss: 1.3770 - val_accuracy: 0.4236\n",
      "Epoch 26/100\n",
      "49/49 [==============================] - 11s 232ms/step - loss: 1.2001 - accuracy: 0.5244 - val_loss: 1.3749 - val_accuracy: 0.4200\n",
      "Epoch 27/100\n",
      "49/49 [==============================] - 11s 233ms/step - loss: 1.1927 - accuracy: 0.5304 - val_loss: 1.3728 - val_accuracy: 0.4218\n",
      "Epoch 28/100\n",
      "49/49 [==============================] - 11s 234ms/step - loss: 1.1854 - accuracy: 0.5369 - val_loss: 1.3709 - val_accuracy: 0.4236\n",
      "Epoch 29/100\n",
      "49/49 [==============================] - 11s 234ms/step - loss: 1.1784 - accuracy: 0.5407 - val_loss: 1.3690 - val_accuracy: 0.4218\n",
      "Epoch 30/100\n",
      "49/49 [==============================] - 11s 233ms/step - loss: 1.1716 - accuracy: 0.5442 - val_loss: 1.3672 - val_accuracy: 0.4236\n",
      "Epoch 31/100\n",
      "49/49 [==============================] - 11s 234ms/step - loss: 1.1649 - accuracy: 0.5484 - val_loss: 1.3654 - val_accuracy: 0.4273\n",
      "Epoch 32/100\n",
      "49/49 [==============================] - 11s 234ms/step - loss: 1.1584 - accuracy: 0.5510 - val_loss: 1.3637 - val_accuracy: 0.4273\n",
      "Epoch 33/100\n",
      "49/49 [==============================] - 11s 234ms/step - loss: 1.1521 - accuracy: 0.5535 - val_loss: 1.3620 - val_accuracy: 0.4309\n",
      "Epoch 34/100\n",
      "49/49 [==============================] - 11s 234ms/step - loss: 1.1459 - accuracy: 0.5574 - val_loss: 1.3603 - val_accuracy: 0.4382\n",
      "Epoch 35/100\n",
      "49/49 [==============================] - 11s 234ms/step - loss: 1.1399 - accuracy: 0.5599 - val_loss: 1.3587 - val_accuracy: 0.4364\n",
      "Epoch 36/100\n",
      "49/49 [==============================] - 11s 234ms/step - loss: 1.1340 - accuracy: 0.5619 - val_loss: 1.3572 - val_accuracy: 0.4364\n",
      "Epoch 37/100\n",
      "49/49 [==============================] - 11s 234ms/step - loss: 1.1283 - accuracy: 0.5647 - val_loss: 1.3556 - val_accuracy: 0.4345\n",
      "Epoch 38/100\n",
      "49/49 [==============================] - 11s 234ms/step - loss: 1.1226 - accuracy: 0.5683 - val_loss: 1.3541 - val_accuracy: 0.4400\n",
      "Epoch 39/100\n",
      "49/49 [==============================] - 11s 234ms/step - loss: 1.1171 - accuracy: 0.5699 - val_loss: 1.3527 - val_accuracy: 0.4418\n",
      "Epoch 40/100\n",
      "49/49 [==============================] - 11s 234ms/step - loss: 1.1117 - accuracy: 0.5718 - val_loss: 1.3512 - val_accuracy: 0.4436\n",
      "Epoch 41/100\n",
      "49/49 [==============================] - 11s 233ms/step - loss: 1.1064 - accuracy: 0.5744 - val_loss: 1.3498 - val_accuracy: 0.4436\n",
      "Epoch 42/100\n",
      "49/49 [==============================] - 11s 233ms/step - loss: 1.1012 - accuracy: 0.5772 - val_loss: 1.3484 - val_accuracy: 0.4436\n",
      "Epoch 43/100\n",
      "49/49 [==============================] - 11s 233ms/step - loss: 1.0960 - accuracy: 0.5801 - val_loss: 1.3471 - val_accuracy: 0.4436\n",
      "Epoch 44/100\n",
      "49/49 [==============================] - 11s 234ms/step - loss: 1.0910 - accuracy: 0.5827 - val_loss: 1.3458 - val_accuracy: 0.4473\n",
      "Epoch 45/100\n",
      "49/49 [==============================] - 11s 234ms/step - loss: 1.0861 - accuracy: 0.5853 - val_loss: 1.3445 - val_accuracy: 0.4473\n",
      "Epoch 46/100\n",
      "49/49 [==============================] - 11s 234ms/step - loss: 1.0812 - accuracy: 0.5865 - val_loss: 1.3432 - val_accuracy: 0.4509\n",
      "Epoch 47/100\n",
      "49/49 [==============================] - 11s 235ms/step - loss: 1.0765 - accuracy: 0.5888 - val_loss: 1.3420 - val_accuracy: 0.4509\n",
      "Epoch 48/100\n",
      "49/49 [==============================] - 11s 234ms/step - loss: 1.0718 - accuracy: 0.5917 - val_loss: 1.3408 - val_accuracy: 0.4491\n",
      "Epoch 49/100\n",
      "49/49 [==============================] - 11s 234ms/step - loss: 1.0671 - accuracy: 0.5933 - val_loss: 1.3397 - val_accuracy: 0.4509\n",
      "Epoch 50/100\n",
      "49/49 [==============================] - 11s 235ms/step - loss: 1.0626 - accuracy: 0.5952 - val_loss: 1.3386 - val_accuracy: 0.4527\n",
      "Epoch 51/100\n",
      "49/49 [==============================] - 11s 234ms/step - loss: 1.0581 - accuracy: 0.5971 - val_loss: 1.3375 - val_accuracy: 0.4545\n",
      "Epoch 52/100\n",
      "49/49 [==============================] - 11s 234ms/step - loss: 1.0537 - accuracy: 0.6006 - val_loss: 1.3364 - val_accuracy: 0.4582\n",
      "Epoch 53/100\n",
      "49/49 [==============================] - 11s 233ms/step - loss: 1.0493 - accuracy: 0.6045 - val_loss: 1.3354 - val_accuracy: 0.4600\n",
      "Epoch 54/100\n",
      "49/49 [==============================] - 12s 235ms/step - loss: 1.0450 - accuracy: 0.6090 - val_loss: 1.3345 - val_accuracy: 0.4600\n",
      "Epoch 55/100\n",
      "49/49 [==============================] - 11s 234ms/step - loss: 1.0407 - accuracy: 0.6112 - val_loss: 1.3335 - val_accuracy: 0.4636\n",
      "Epoch 56/100\n",
      "49/49 [==============================] - 11s 234ms/step - loss: 1.0365 - accuracy: 0.6125 - val_loss: 1.3327 - val_accuracy: 0.4655\n",
      "Epoch 57/100\n",
      "49/49 [==============================] - 11s 234ms/step - loss: 1.0324 - accuracy: 0.6144 - val_loss: 1.3318 - val_accuracy: 0.4673\n",
      "Epoch 58/100\n",
      "49/49 [==============================] - 11s 233ms/step - loss: 1.0283 - accuracy: 0.6170 - val_loss: 1.3310 - val_accuracy: 0.4655\n",
      "Epoch 59/100\n",
      "49/49 [==============================] - 11s 234ms/step - loss: 1.0243 - accuracy: 0.6192 - val_loss: 1.3303 - val_accuracy: 0.4618\n",
      "Epoch 60/100\n",
      "49/49 [==============================] - 11s 234ms/step - loss: 1.0203 - accuracy: 0.6208 - val_loss: 1.3295 - val_accuracy: 0.4600\n",
      "Epoch 61/100\n",
      "49/49 [==============================] - 11s 234ms/step - loss: 1.0164 - accuracy: 0.6231 - val_loss: 1.3289 - val_accuracy: 0.4600\n",
      "Epoch 62/100\n",
      "49/49 [==============================] - 11s 234ms/step - loss: 1.0125 - accuracy: 0.6247 - val_loss: 1.3282 - val_accuracy: 0.4600\n",
      "Epoch 63/100\n",
      "49/49 [==============================] - 11s 234ms/step - loss: 1.0086 - accuracy: 0.6256 - val_loss: 1.3276 - val_accuracy: 0.4582\n",
      "Epoch 64/100\n",
      "49/49 [==============================] - 11s 234ms/step - loss: 1.0048 - accuracy: 0.6266 - val_loss: 1.3271 - val_accuracy: 0.4582\n",
      "Epoch 65/100\n",
      "49/49 [==============================] - 11s 234ms/step - loss: 1.0011 - accuracy: 0.6285 - val_loss: 1.3265 - val_accuracy: 0.4582\n",
      "Epoch 66/100\n",
      "49/49 [==============================] - 11s 234ms/step - loss: 0.9974 - accuracy: 0.6314 - val_loss: 1.3261 - val_accuracy: 0.4600\n",
      "Epoch 67/100\n",
      "49/49 [==============================] - 11s 235ms/step - loss: 0.9937 - accuracy: 0.6346 - val_loss: 1.3256 - val_accuracy: 0.4600\n",
      "Epoch 68/100\n",
      "49/49 [==============================] - 11s 233ms/step - loss: 0.9901 - accuracy: 0.6365 - val_loss: 1.3252 - val_accuracy: 0.4600\n",
      "Epoch 69/100\n",
      "49/49 [==============================] - 11s 233ms/step - loss: 0.9865 - accuracy: 0.6391 - val_loss: 1.3248 - val_accuracy: 0.4582\n",
      "Epoch 70/100\n",
      "49/49 [==============================] - 12s 235ms/step - loss: 0.9829 - accuracy: 0.6401 - val_loss: 1.3245 - val_accuracy: 0.4527\n",
      "Epoch 71/100\n",
      "49/49 [==============================] - 11s 234ms/step - loss: 0.9794 - accuracy: 0.6410 - val_loss: 1.3242 - val_accuracy: 0.4564\n",
      "Epoch 72/100\n",
      "49/49 [==============================] - 11s 234ms/step - loss: 0.9760 - accuracy: 0.6417 - val_loss: 1.3239 - val_accuracy: 0.4582\n",
      "Epoch 73/100\n",
      "49/49 [==============================] - 11s 233ms/step - loss: 0.9725 - accuracy: 0.6423 - val_loss: 1.3237 - val_accuracy: 0.4582\n",
      "Epoch 74/100\n",
      "49/49 [==============================] - 11s 232ms/step - loss: 0.9691 - accuracy: 0.6446 - val_loss: 1.3235 - val_accuracy: 0.4582\n",
      "Epoch 75/100\n",
      "49/49 [==============================] - 11s 232ms/step - loss: 0.9658 - accuracy: 0.6462 - val_loss: 1.3233 - val_accuracy: 0.4545\n",
      "Epoch 76/100\n",
      "49/49 [==============================] - 11s 233ms/step - loss: 0.9625 - accuracy: 0.6478 - val_loss: 1.3232 - val_accuracy: 0.4564\n",
      "Epoch 77/100\n",
      "49/49 [==============================] - 11s 233ms/step - loss: 0.9592 - accuracy: 0.6494 - val_loss: 1.3231 - val_accuracy: 0.4582\n",
      "Epoch 78/100\n",
      "49/49 [==============================] - 11s 234ms/step - loss: 0.9559 - accuracy: 0.6513 - val_loss: 1.3230 - val_accuracy: 0.4582\n",
      "Epoch 79/100\n",
      "49/49 [==============================] - 12s 235ms/step - loss: 0.9527 - accuracy: 0.6532 - val_loss: 1.3230 - val_accuracy: 0.4564\n",
      "Epoch 80/100\n",
      "49/49 [==============================] - 11s 234ms/step - loss: 0.9495 - accuracy: 0.6535 - val_loss: 1.3230 - val_accuracy: 0.4564\n",
      "Epoch 81/100\n",
      "49/49 [==============================] - 11s 230ms/step - loss: 0.9464 - accuracy: 0.6548 - val_loss: 1.3230 - val_accuracy: 0.4564\n",
      "Epoch 82/100\n",
      "49/49 [==============================] - 11s 231ms/step - loss: 0.9433 - accuracy: 0.6564 - val_loss: 1.3231 - val_accuracy: 0.4582\n",
      "Epoch 83/100\n",
      "49/49 [==============================] - 11s 230ms/step - loss: 0.9402 - accuracy: 0.6583 - val_loss: 1.3231 - val_accuracy: 0.4582\n",
      "Epoch 84/100\n",
      "49/49 [==============================] - 11s 229ms/step - loss: 0.9371 - accuracy: 0.6609 - val_loss: 1.3232 - val_accuracy: 0.4582\n",
      "Epoch 85/100\n",
      "49/49 [==============================] - ETA: 0s - loss: 0.9341 - accuracy: 0.6619Restoring model weights from the end of the best epoch.\n",
      "49/49 [==============================] - 11s 232ms/step - loss: 0.9341 - accuracy: 0.6619 - val_loss: 1.3234 - val_accuracy: 0.4564\n",
      "Epoch 00085: early stopping\n"
     ]
    },
    {
     "data": {
      "image/png": "[encoded data removed]",
      "text/plain": [
       "<Figure size 432x288 with 1 Axes>"
      ]
     },
     "metadata": {
      "needs_background": "light",
      "tags": []
     },
     "output_type": "display_data"
    }
   ],
   "source": [
    "# Get linear model and compile\n",
    "tf.keras.backend.clear_session()\n",
    "model = get_linear_classifier(rn50)\n",
    "model.compile(loss=\"sparse_categorical_crossentropy\", metrics=[\"accuracy\"],\n",
    "                     optimizer=\"adam\")\n",
    "\n",
    "# Train \n",
    "history = model.fit(training_ds,\n",
    "                 validation_data=validation_ds,\n",
    "                 epochs=100,\n",
    "                 callbacks=[early_stopper])\n",
    "plot_progress(history)"
   ]
  },
  {
   "cell_type": "code",
   "execution_count": 19,
   "metadata": {
    "colab": {
     "base_uri": "https://localhost:8080/"
    },
    "id": "NctQf484t4GR",
    "outputId": "d1449782-c614-41ff-b5a5-6448978db53f"
   },
   "outputs": [
    {
     "name": "stdout",
     "output_type": "stream",
     "text": [
      "9/9 [==============================] - 1s 159ms/step - loss: 1.3230 - accuracy: 0.4564\n",
      "Validation accuracy: 45.64\n"
     ]
    }
   ],
   "source": [
    "_, acc = model.evaluate(validation_ds)\n",
    "print('Validation accuracy:', round(acc*100, 2))"
   ]
  },
  {
   "cell_type": "markdown",
   "metadata": {
    "id": "ykzPyP-uyJRu"
   },
   "source": [
    "For a minimal implementation the scores aren't that bad. "
   ]
  }
 ],
 "metadata": {
  "accelerator": "GPU",
  "colab": {
   "authorship_tag": "ABX9TyMAleSaBYAAgM4+rTN5xy7y",
   "collapsed_sections": [],
   "include_colab_link": true,
   "name": "SimSiam_Evaluation.ipynb",
   "provenance": []
  },
  "kernelspec": {
   "display_name": "Python 3",
   "language": "python",
   "name": "python3"
  },
  "language_info": {
   "codemirror_mode": {
    "name": "ipython",
    "version": 3
   },
   "file_extension": ".py",
   "mimetype": "text/x-python",
   "name": "python",
   "nbconvert_exporter": "python",
   "pygments_lexer": "ipython3",
   "version": "3.9.18"
  }
 },
 "nbformat": 4,
 "nbformat_minor": 1
}
